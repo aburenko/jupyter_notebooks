{
 "cells": [
  {
   "cell_type": "code",
   "execution_count": 14,
   "metadata": {},
   "outputs": [],
   "source": [
    "client_access_token = \"1Ft44bf9e0YqU8rf3_4yR9HI9Z5dc3BihCn-jRAbEYCsEiNklL_vCALdnOhluxcl\""
   ]
  },
  {
   "cell_type": "code",
   "execution_count": 15,
   "metadata": {},
   "outputs": [],
   "source": [
    "import lyricsgenius\n",
    "LyricsGenius = lyricsgenius.Genius(client_access_token)"
   ]
  },
  {
   "cell_type": "code",
   "execution_count": 16,
   "metadata": {},
   "outputs": [],
   "source": [
    "def clean_up(song_title):\n",
    "\n",
    "    if \"Ft\" in song_title:\n",
    "        before_ft_pattern = re.compile(\".*(?=\\(Ft)\")\n",
    "        song_title_before_ft = before_ft_pattern.search(song_title).group(0)\n",
    "        clean_song_title = song_title_before_ft.strip()\n",
    "        clean_song_title = clean_song_title.replace(\"/\", \"-\")\n",
    "    \n",
    "    else:\n",
    "        song_title_no_lyrics = song_title.replace(\"Lyrics\", \"\")\n",
    "        clean_song_title = song_title_no_lyrics.strip()\n",
    "        clean_song_title = clean_song_title.replace(\"/\", \"-\")\n",
    "    \n",
    "    return clean_song_title"
   ]
  },
  {
   "cell_type": "code",
   "execution_count": 21,
   "metadata": {},
   "outputs": [],
   "source": [
    "def get_self_references_rate(artist_name, max_songs=50):\n",
    "    artist_name = artist_name.replace(\" \", \"-\")\n",
    "    artist = LyricsGenius.search_artist(artist_name, max_songs=max_songs)\n",
    "    self_references = 0\n",
    "    for song in artist.songs:\n",
    "        cleaned_text = clean_up(song.lyrics) \n",
    "        for self_reference in ['я','мне','меня','мной','мы', 'нас', 'нам', 'нами']:\n",
    "            self_references += cleaned_text.count(self_reference)\n",
    "    return self_references / len(artist.songs)"
   ]
  },
  {
   "cell_type": "code",
   "execution_count": 19,
   "metadata": {},
   "outputs": [
    {
     "name": "stdout",
     "output_type": "stream",
     "text": [
      "Searching for songs by Oxxxymiron...\n",
      "\n",
      "Song 1: \"Город под подошвой (City Under the Sole)\"\n",
      "Song 2: \"«Где нас нет» (”On the Other Side”)\"\n",
      "Song 3: \"КТО УБИЛ МАРКА? (WHO KILLED MARK?)\"\n",
      "Song 4: \"До зимы (Before Winter)\"\n",
      "Song 5: \"Переплетено (Interlaced)\"\n",
      "Song 6: \"В книге всё было по-другому (4 раунд 17ib) (The Book Had It Different)\"\n",
      "Song 7: \"Неваляшка (Tumbler Toy)\"\n",
      "Song 8: \"Тентакли (Tentacles)\"\n",
      "Song 9: \"Восточный Мордор (East Mordor)\"\n",
      "Song 10: \"Песенка Гремлина (Gremlin’s Song)\"\n",
      "Song 11: \"Башня из слоновой кости (Ivory Tower)\"\n",
      "Song 12: \"Признаки Жизни (Signs of Life)\"\n",
      "Song 13: \"ОРГАНИЗАЦИЯ (ORGANIZATION)\"\n",
      "Song 14: \"Девочка Пиздец (Fucked Up Girl)\"\n",
      "Song 15: \"Детектор лжи (Lie Detector)\"\n",
      "Song 16: \"Последний звонок (Prom)\"\n",
      "Song 17: \"«Полигон» (“Butts”)\"\n",
      "Song 18: \"Биполярочка (Bipolarochka)\"\n",
      "Song 19: \"Всего лишь писатель (Just a Writer)\"\n",
      "Song 20: \"Пролив Дрейка (Drake Passage)\"\n",
      "Song 21: \"Накануне (On the Eve)\"\n",
      "Song 22: \"Кем ты стал? (What Had You Become?)\"\n",
      "Song 23: \"Привет со дна  (Hello from the Bottom)\"\n",
      "Song 24: \"Не от мира сего (Not of This World)\"\n",
      "Song 25: \"Слово мэра (Mayor’s Word)\"\n",
      "Song 26: \"Спонтанное самовозгорание (Spontaneous Combustion)\"\n",
      "Song 27: \"Хитиновый покров (Chitin Shell)\"\n",
      "Song 28: \"Больше Бена (Bigga Than Ben)\"\n",
      "Song 29: \"Russky Cockney\"\n",
      "Song 30: \"Дело нескольких минут (3 раунд 17ib) (A Matter of Minutes)\"\n",
      "Song 31: \"Колыбельная (Lullaby)\"\n",
      "Song 32: \"Жук в муравейнике (Beetle in an anthill)\"\n",
      "Song 33: \"Лондон против всех (London Vs. Everyone)\"\n",
      "Song 34: \"Darkside\"\n",
      "Song 35: \"Мох (Moss)\"\n",
      "Song 36: \"Волапюк (Volapük)\"\n",
      "Song 37: \"Йети и дети (8 раунд 14ib) (Yeti and Kids)\"\n",
      "Song 38: \"Не с начала (Not From the Beginning)\"\n",
      "Song 39: \"Мой менталитет (Oi Oi) (My Mentality)\"\n",
      "Song 40: \"В говне (In Shit)\"\n",
      "Song 41: \"Крокодиловы слёзы (Crocodile tears)\"\n",
      "Song 42: \"ЦУНАМИ (TSUNAMI)\"\n",
      "Song 43: \"XXX SHOP\"\n",
      "Song 44: \"Ultima Thule\"\n",
      "Song 45: \"Я Хейтер (I’m a Hater)\"\n",
      "Song 46: \"HPL\"\n",
      "Song 47: \"Колесо (Wheel)\"\n",
      "Song 48: \"CCTV\"\n",
      "Song 49: \"День физкультурника (4 раунд 14ib) (Athlete’s Day)\"\n",
      "Song 50: \"В долгий путь (1 раунд 17ib) (On a Long Journey)\"\n",
      "Song 51: \"Ветер перемен (2 раунд 17ib) (The Wind of Change)\"\n",
      "Song 52: \"Цифры и цвета (Numbers & colors)\"\n",
      "Song 53: \"Что такое империя? (What is an Empire?)\"\n",
      "Song 54: \"Вечный жид (Everlasting Jew)\"\n",
      "Song 55: \"В стране женщин (5 раунд 14ib) (In the Country of Women)\"\n",
      "Song 56: \"До сих пор MC (Still MC)\"\n",
      "Song 57: \"Судьба моралиста (The fate of the moralist)\"\n",
      "Song 58: \"В бульбуляторе (In the Bong)\"\n",
      "Song 59: \"Не говори ни слова (6 раунд 14ib) (Don’t Say a Word)\"\n",
      "Song 60: \"Чёртово колесо (Ferris Wheel)\"\n",
      "Song 61: \"Лондонград (Londongrad) (Director’s Cut)\"\n",
      "Song 62: \"Нет связи (7 раунд 14ib) (No Connection)\"\n",
      "Song 63: \"Стихи о неизвестном солдате (Poems About the Unknown Soldier)\"\n",
      "Song 64: \"RAP CITY\"\n",
      "Song 65: \"Лондонград (OST Londongrad)\"\n",
      "Song 66: \"OXXXYMIRON\"\n",
      "Song 67: \"OXXXYMIRON X DJ WHOO KID freestyle on Eminem’s SHADE 45\"\n",
      "Song 68: \"Шалом (Shalom)\"\n",
      "Song 69: \"Лондон против всех, ч. 2 (London Vs. Everyone, p. 2)\"\n",
      "Song 70: \"Ходят слухи (1 раунд 14ib) (Rumor Has It)\"\n",
      "Song 71: \"Hangover\"\n",
      "Song 72: \"Ящик фокусника (3 раунд 14ib) (Magician’s Box)\"\n",
      "Song 73: \"Тайные желания (2 раунд 14ib) (Secret Desires)\"\n",
      "Song 74: \"Девочка Пиздец alternative (неизданное демо 2012) (Girl Panic)\"\n",
      "Song 75: \"AI Ogon\"\n",
      "Song 76: \"Unreleased Track (Y, O, XXX)\"\n",
      "Song 77: \"Intro\"\n",
      "Song 78: \"На куски (Demo) (In Pieces)\"\n",
      "Song 79: \"Город под подошвой (GPP tour version)\"\n",
      "Song 80: \"Три монолога (Three Monologues)\"\n",
      "Song 81: \"Погружение (Immersion)\"\n",
      "Song 82: \"Песенка про Шахматиста (Song About a Chess Player)\"\n",
      "Song 83: \"Интро (Intro II)\"\n",
      "Song 84: \"16 Bars Acapella\"\n",
      "Song 85: \"Afterparty (Demo)\"\n",
      "Song 86: \"Витязи словоблудия (Уховертка) (The Knights of Verbiage (Earwig))\"\n",
      "Song 87: \"Ganz Promo Tune\"\n",
      "Song 88: \"Flashback\"\n",
      "Song 89: \"Athens\"\n",
      "Song 90: \"Konstrukt\"\n",
      "Song 91: \"Reality\"\n",
      "Song 92: \"Imperial\"\n",
      "Song 93: \"3030 год (1 раунд 1ob) (3030 year)\"\n",
      "Song 94: \"Мне скучно жить (I’m Bored of Living)\"\n",
      "Song 95: \"Северная страна (North Country)\"\n",
      "Song 96: \"Дежавю (Deja Vu)\"\n",
      "Song 97: \"Aghori\"\n",
      "Song 98: \"Stereocoma\"\n",
      "Song 99: \"Сказка о потерянном времени (A Tale of a Lost Time)\"\n",
      "Song 100: \"BACK 2 GRIME\"\n",
      "\n",
      "Reached user-specified song limit (100).\n",
      "Done. Found 100 songs.\n"
     ]
    },
    {
     "data": {
      "text/plain": [
       "40.67"
      ]
     },
     "execution_count": 19,
     "metadata": {},
     "output_type": "execute_result"
    }
   ],
   "source": [
    "get_self_references_rate(\"Oxxxymiron\")"
   ]
  },
  {
   "cell_type": "code",
   "execution_count": 22,
   "metadata": {
    "scrolled": true
   },
   "outputs": [
    {
     "name": "stdout",
     "output_type": "stream",
     "text": [
      "Searching for songs by Feduk...\n",
      "\n",
      "Song 1: \"Розовое вино (Rosé Wine)\"\n",
      "Song 2: \"Хлопья летят наверх (The Flakes Are Goin’ Back Up)\"\n",
      "Song 3: \"Околофутбола (Near Football)\"\n",
      "Song 4: \"27\"\n",
      "Song 5: \"Моряк (Sailor)\"\n",
      "Song 6: \"Я хочу летать (I Want To Fly)\"\n",
      "Song 7: \"Краски (Paints)\"\n",
      "Song 8: \"Последний день лета (Last Day Of Summer)\"\n",
      "Song 9: \"Tour de France\"\n",
      "Song 10: \"Groove\"\n",
      "Song 11: \"Будапешт (Budapest)\"\n",
      "Song 12: \"Бэнгер (Banger)\"\n",
      "Song 13: \"Амазонка (Amazon)\"\n",
      "Song 14: \"Луна (Acoustic Version) (Moon)\"\n",
      "Song 15: \"Пальмы (Palms)\"\n",
      "Song 16: \"More Love\"\n",
      "Song 17: \"Акварель (Watercolor)\"\n",
      "Song 18: \"Закрывай глаза (Close Your Eyes)\"\n",
      "Song 19: \"На этаже (On The Floor)\"\n",
      "Song 20: \"Луна-Парк (Luna-Park)\"\n",
      "Song 21: \"Поздно (Late)\"\n",
      "Song 22: \"На лайте (On The Bark)\"\n",
      "Song 23: \"Останься (Stay)\"\n",
      "Song 24: \"Модели (Acoustic Version) (Models)\"\n",
      "Song 25: \"Гуччи Мейн вернулся к маме (Gucci Mane Is Chilling Back At His Mom’s)\"\n",
      "Song 26: \"Море любви (Sea of love)\"\n",
      "Song 27: \"Заново (Again)\"\n",
      "Song 28: \"Песня про лето (Summer Song)\"\n",
      "Song 29: \"Русский народный трэп (Russian Folk Trap)\"\n",
      "Song 30: \"По волнам (On The Waves)\"\n",
      "Song 31: \"Невобломе (Neobloma)\"\n",
      "Song 32: \"Друзья (Friends)\"\n",
      "Song 33: \"Фак опс (Fuck Opps)\"\n",
      "Song 34: \"Водолей (Aquarius)\"\n",
      "Song 35: \"Мой Город (My City)\"\n",
      "Song 36: \"Туси на Руси (TNR)\"\n",
      "Song 37: \"No\"\n",
      "Song 38: \"Легенды (Legends)\"\n",
      "Song 39: \"Маяк (Lighthouse)\"\n",
      "Song 40: \"Где ты была (Where Have You Been)\"\n",
      "Song 41: \"Огонь (Fire)\"\n",
      "Song 42: \"Розовое вино (Olexesh Remix)\"\n",
      "Song 43: \"Я пони (I’m a Pony)\"\n",
      "Song 44: \"Влюблены (Lover)\"\n",
      "Song 45: \"Водопад (Waterfall)\"\n",
      "Song 46: \"Дождь (Rain)\"\n",
      "Song 47: \"You\"\n",
      "Song 48: \"ННМ / Навали на меня (NNM)\"\n",
      "Song 49: \"Регион-лето (Region-summer)\"\n",
      "Song 50: \"Форсим и постим (Force And Post)\"\n",
      "\n",
      "Reached user-specified song limit (50).\n",
      "Done. Found 50 songs.\n"
     ]
    },
    {
     "data": {
      "text/plain": [
       "30.96"
      ]
     },
     "execution_count": 22,
     "metadata": {},
     "output_type": "execute_result"
    }
   ],
   "source": [
    "get_self_references_rate(\"Feduk\")"
   ]
  },
  {
   "cell_type": "code",
   "execution_count": 23,
   "metadata": {
    "scrolled": true
   },
   "outputs": [
    {
     "name": "stdout",
     "output_type": "stream",
     "text": [
      "Searching for songs by Slava-KPSS...\n",
      "\n",
      "Changing artist name to 'Слава КПСС (Slava KPSS)'\n",
      "Song 1: \"Комар-парижанин (Parisian-mosquito)\"\n",
      "Song 2: \"Я мечтаю (I’m Dreaming) [Oxxxymiron Diss]\"\n",
      "Song 3: \"Духовная нищанка (Spiritual Poverty)\"\n",
      "Song 4: \"Икар (Icarus)\"\n",
      "Song 5: \"Грустные танцы (Sad dances)\"\n",
      "Song 6: \"NO, THANKS\"\n",
      "Song 7: \"Жертва (Victim) (Oxxxymiron diss)\"\n",
      "Song 8: \"Соечка (Soechka)\"\n",
      "Song 9: \"Мы из Антихайпа (We are from Antihype)\"\n",
      "Song 10: \"Солнце Мёртвых (The Sun Of The Dead)\"\n",
      "Song 11: \"Владимир Путин (Vladimir Putin)\"\n",
      "Song 12: \"Я буду петь свою музыку (Diss)\"\n",
      "Song 13: \"Пидор (Jubilee Diss) (Faggot)\"\n",
      "Song 14: \"Фиксики (Fixiki)\"\n",
      "Song 15: \"Занозы (Splinters)\"\n",
      "Song 16: \"TEKKEN\"\n",
      "Song 17: \"Мышка-норушка (Mouse)\"\n",
      "Song 18: \"БУДУ КАК MORGENSHTERN (I’LL BE LIKE MORGENSHTERN)\"\n",
      "Song 19: \"Пацанский флекс (Male Flex)\"\n",
      "Song 20: \"Псевдонимы Славы КПСС (Pseudonyms)\"\n",
      "Song 21: \"Опять надо жить (Again...)\"\n",
      "Song 22: \"Соболев (Sobolev) Diss Chalenge\"\n",
      "Song 23: \"Мертвые звёзды (Dead Stars)\"\n",
      "Song 24: \"TOYOTA CRESTA\"\n",
      "Song 25: \"Охлади мой пыл (Cool My Ardor Down)\"\n",
      "Song 26: \"Rickey F diss challenge\"\n",
      "Song 27: \"Могилам II (Mogilam II)\"\n",
      "Song 28: \"Волки да вороны (Wolfs & Crows)\"\n",
      "Song 29: \"Аниме Гангрейв (Anime Gungrave)\"\n",
      "Song 30: \"Больше не (No More)\"\n",
      "Song 31: \"Ни надежды, ни бога, ни хип-хопа (No Hope, No God, No Hip Hop)\"\n",
      "Song 32: \"King Ring (Freestyle)\"\n",
      "Song 33: \"Чучело (Scarecrow)\"\n",
      "Song 34: \"Смерти и вина (Death and wine)\"\n",
      "Song 35: \"Чудовище погубившее мир (The Monster That Ruined the World)\"\n",
      "Song 36: \"Я убью себя (I’ll Kill Myself)\"\n",
      "Song 37: \"Пачка косяков (Pack of Joints)\"\n",
      "Song 38: \"Пусть (Let)\"\n",
      "Song 39: \"Купидоны (Cupids)\"\n",
      "Song 40: \"МОЙ ГЕНЕРАЛ (MY GENERAL)\"\n",
      "Song 41: \"Новый Ротшильд (New Rotshild)\"\n",
      "Song 42: \"Шатуны (Shatuny)\"\n",
      "Song 43: \"НЕ ГОМОФОБ (NOT HOMOPHOBIC)\"\n",
      "Song 44: \"XXL FRESHMENS DISS\"\n",
      "Song 45: \"В замогильной стороне (In the sepulchral...)\"\n",
      "Song 46: \"100 barz (Нахуй всех!)\"\n",
      "Song 47: \"Мёртвый игрок (Dead Player)\"\n",
      "Song 48: \"Следы на снегу (Footprints In The Snow)\"\n",
      "Song 49: \"Человек без кожи (Man Without Skin)\"\n",
      "Song 50: \"Русское поле (Russkoe pole)\"\n",
      "\n",
      "Reached user-specified song limit (50).\n",
      "Done. Found 50 songs.\n"
     ]
    },
    {
     "data": {
      "text/plain": [
       "41.14"
      ]
     },
     "execution_count": 23,
     "metadata": {},
     "output_type": "execute_result"
    }
   ],
   "source": [
    "get_self_references_rate(\"Slava-KPSS\")"
   ]
  }
 ],
 "metadata": {
  "kernelspec": {
   "display_name": "Python 3 (ipykernel)",
   "language": "python",
   "name": "python3"
  },
  "language_info": {
   "codemirror_mode": {
    "name": "ipython",
    "version": 3
   },
   "file_extension": ".py",
   "mimetype": "text/x-python",
   "name": "python",
   "nbconvert_exporter": "python",
   "pygments_lexer": "ipython3",
   "version": "3.8.5"
  },
  "toc": {
   "base_numbering": 1,
   "nav_menu": {},
   "number_sections": true,
   "sideBar": true,
   "skip_h1_title": false,
   "title_cell": "Table of Contents",
   "title_sidebar": "Contents",
   "toc_cell": false,
   "toc_position": {},
   "toc_section_display": true,
   "toc_window_display": false
  }
 },
 "nbformat": 4,
 "nbformat_minor": 4
}
